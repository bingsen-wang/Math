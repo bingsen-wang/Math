{
  "nbformat": 4,
  "nbformat_minor": 0,
  "metadata": {
    "colab": {
      "provenance": [],
      "include_colab_link": true
    },
    "kernelspec": {
      "name": "python3",
      "display_name": "Python 3"
    }
  },
  "cells": [
    {
      "cell_type": "markdown",
      "metadata": {
        "id": "view-in-github",
        "colab_type": "text"
      },
      "source": [
        "<a href=\"https://colab.research.google.com/github/bingsen-wang/Math/blob/main/FourierComplex_Square.ipynb\" target=\"_parent\"><img src=\"https://colab.research.google.com/assets/colab-badge.svg\" alt=\"Open In Colab\"/></a>"
      ]
    },
    {
      "cell_type": "markdown",
      "metadata": {
        "id": "jAMKoELNpsK-"
      },
      "source": [
        "<center><h1><b>Complex Fourier Series for Square Waveform</h1></b>\n",
        "\n",
        "Dr. Bingsen Wang\n",
        "\n",
        "2/16/2025\n",
        "</center>"
      ]
    },
    {
      "cell_type": "markdown",
      "source": [
        "#Fourier Coefficients for Square Waveform"
      ],
      "metadata": {
        "id": "r01_Hgnvq9xK"
      }
    },
    {
      "cell_type": "markdown",
      "source": [
        "The complex Fourier series of a periodic function $f(t)$ with period $T$ is\n",
        "$$f(t) = \\sum_{n=-\\infty}^\\infty c_ne^{jn\\omega t}$$\n",
        "where\n",
        "$c_n = \\frac{1}{T}\\int_0^Tf(t)e^{-jn\\omega t}dt$ and $\\omega =\\frac{2\\pi}{T}$.\n",
        "\n",
        "For square waveform with  $T= 2\\pi$ or $\\omega=1$,\n",
        "$$\\begin{align}c_n &= \\frac{1}{2\\pi}\\int_0^{\\pi}e^{-jn t}dt - \\frac{1}{2\\pi}\\int_\\pi^{2\\pi}e^{-jnt}dt\\\\\n",
        "&= \\frac{-1}{j2n\\pi}(e^{-jn\\pi}-1) + \\frac{1}{j2n\\pi}(1-e^{-jn\\pi})\\\\\n",
        "&= \\frac{1}{j2n\\pi}(1-e^{-jn\\pi}) + \\frac{1}{j2n\\pi}(1-e^{-jn\\pi})\\\\\n",
        "&= \\frac{2}{j2n\\pi}(1-e^{-jn\\pi}) \\\\\n",
        "&= \\frac{1}{jn\\pi}[1-(-1)^n]\n",
        "\\end{align}$$\n",
        "\n",
        "If $n=2k$, $c_n=0$.\n",
        "\n",
        "If $n=2k+1$, $c_n=\\frac{2}{j(2k+1)\\pi}$\n"
      ],
      "metadata": {
        "id": "QWr5urH4rDV5"
      }
    },
    {
      "cell_type": "markdown",
      "source": [
        "The complex Fourier series for the square waveform is\n",
        "$$f(t) = \\sum_{k=-\\infty}^\\infty \\frac{2}{j(2k+1)\\pi}e^{j(2k+1)t}$$"
      ],
      "metadata": {
        "id": "zn21ceGD0xHt"
      }
    },
    {
      "cell_type": "markdown",
      "metadata": {
        "id": "Hv0YxDrWU4h8"
      },
      "source": [
        "#Python Code"
      ]
    },
    {
      "cell_type": "code",
      "execution_count": 46,
      "metadata": {
        "id": "XeGsHYTt8IXU",
        "colab": {
          "base_uri": "https://localhost:8080/",
          "height": 936
        },
        "outputId": "394d9dc1-bbd6-4235-e05b-47216232c62c"
      },
      "outputs": [
        {
          "output_type": "display_data",
          "data": {
            "text/plain": [
              "<Figure size 900x900 with 1 Axes>"
            ],
            "image/png": "[encoded data removed]"
          },
          "metadata": {}
        }
      ],
      "source": [
        "from matplotlib import pyplot,animation,cm\n",
        "import numpy as np\n",
        "pyplot.rcParams.update({\"font.family\":\"sans-serif\", \"mathtext.fontset\":\"cm\"})\n",
        "\n",
        "Nl,Nf,r,x0,y0 = 7,1000,1.7,[0,4,4],[0,0,-8]\n",
        "n,theta = np.linspace(-(2*Nl-1),2*Nl-1,Nl*2),np.linspace(0,np.pi*2,Nf)\n",
        "fn = r*np.array([2/(1j*k*np.pi)*np.exp(1j*k*(theta+np.pi/2)) for k in n])\n",
        "fn1 = 1j*r*np.array([2/(1j*k*np.pi)*np.exp(1j*k*(theta)) for k in n])\n",
        "f = np.sum(fn+fn1,axis=0)\n",
        "clst = list(cm.tab10.colors) #colors of lines\n",
        "fig = pyplot.figure(figsize=([9,9]))\n",
        "ax = fig.add_axes([0,0,1,1],xlim=[-4,12],ylim=[-12,4])\n",
        "ax.axis('off')\n",
        "ax.plot([x0[0]-3.2,x0[0]+3.2],[y0[2]-3.2,y0[2]+3.2],lw=3,c='.5',alpha=.5)\n",
        "[ax.annotate('',[(x0[i]+[3.5,7,7][i],y0[i]),(x0[i],y0[i]+3.5)][k],\n",
        "              [(x0[i]+[-3.5,-.2,-.2][i],y0[i]),(x0[i],y0[i]-3.5)][k],\n",
        "             arrowprops={'arrowstyle':'->','lw':1.5}) for i in range(3) for k in range(2)]\n",
        "[ax.text([x0[i]+[3,6.5,6.5][i],x0[i]][k],[y0[i],y0[i]+3.7][k],\n",
        "         ['$Re$',r'$\\theta$',r'$\\theta$','$Im$',r' ',r' '][i+k*3],\n",
        "         size=25,va='top') for i in range(3) for k in range(2)]\n",
        "sc=[ax.scatter(0,0,marker='o',color='tab:red',s=[150,80,80][k]) for k in range(3)]\n",
        "lines=[ax.plot([],[],ls=['--','--','-','-'][k],lw=[1.2,1.2,3,3][k], c=clst[0])[0] for k in range(4)]\n",
        "lines.append(ax.plot([],[],lw=3,c='tab:red')[0])\n",
        "def animate(k):\n",
        "  ejnt = r*f[:k+1]\n",
        "  ejnt1=ejnt[-1]\n",
        "  [sc[i].set_offsets([x0[i]+[ejnt1.real,theta[k],theta[k]][i],\n",
        "           y0[i]+[ejnt1.imag,ejnt1.imag,ejnt1.real][i]]) for i in range(3)]\n",
        "  lines[0].set_data([0,ejnt1.real,theta[k]+x0[1]], [0,ejnt1.imag,ejnt1.imag])\n",
        "  lines[1].set_data([ejnt1.real,ejnt1.real,theta[k]+x0[2]],[ejnt1.imag,y0[2]+ejnt1.real,y0[2]+ejnt1.real])\n",
        "  [lines[2+m].set_data(x0[1+m]+theta[:k+1],y0[1+m]+[ejnt.imag,ejnt.real][m]) for m in range(2)]\n",
        "  lines[4].set_data(ejnt.real,ejnt.imag)\n",
        "  return\n",
        "anim = animation.FuncAnimation(fig, animate, frames=Nf, interval=50)\n",
        "anim.save(\"Fourier_square.mp4\",writer=animation.FFMpegWriter(fps=50),dpi=200)"
      ]
    }
  ]
}