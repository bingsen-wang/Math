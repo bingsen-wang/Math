{
  "nbformat": 4,
  "nbformat_minor": 0,
  "metadata": {
    "colab": {
      "provenance": [],
      "include_colab_link": true
    },
    "kernelspec": {
      "name": "python3",
      "display_name": "Python 3"
    }
  },
  "cells": [
    {
      "cell_type": "markdown",
      "metadata": {
        "id": "view-in-github",
        "colab_type": "text"
      },
      "source": [
        "<a href=\"https://colab.research.google.com/github/bingsen-wang/Math/blob/main/CoordinateSystem_Spherical2Cartesian.ipynb\" target=\"_parent\"><img src=\"https://colab.research.google.com/assets/colab-badge.svg\" alt=\"Open In Colab\"/></a>"
      ]
    },
    {
      "cell_type": "markdown",
      "metadata": {
        "id": "jAMKoELNpsK-"
      },
      "source": [
        "<center><h1><b>Spherical vs Cartesian Coordinate System</h1></b>\n",
        "\n",
        "Dr. Bingsen Wang\n",
        "\n",
        "4/5/2025\n",
        "</center>"
      ]
    },
    {
      "cell_type": "markdown",
      "metadata": {
        "id": "Hv0YxDrWU4h8"
      },
      "source": [
        "#Python Code"
      ]
    },
    {
      "cell_type": "code",
      "execution_count": null,
      "metadata": {
        "id": "XeGsHYTt8IXU"
      },
      "outputs": [],
      "source": [
        "from matplotlib import pyplot,animation,cm,patches,path\n",
        "import numpy as np\n",
        "pyplot.rcParams.update({\"font.family\":\"sans-serif\", \"mathtext.fontset\":\"cm\"})\n",
        "def d32(xyz): #from 3d to 2d cabinet projection\n",
        "  theta=np.pi/4\n",
        "  x=xyz[1]-xyz[0]*np.sin(theta)/2\n",
        "  y=xyz[2]-xyz[0]*np.cos(theta)/2\n",
        "  return np.array([x,y])\n",
        "Nf=600\n",
        "r=.6\n",
        "theta=np.pi/4\n",
        "theta_lst=np.linspace(0,theta,Nf)\n",
        "rho = r*np.sin(theta)\n",
        "phi=np.linspace(0,np.pi*2,Nf)\n",
        "x=rho*np.cos(phi)\n",
        "y=rho*np.sin(phi)\n",
        "phi1=np.linspace(0,np.pi,Nf)\n",
        "x1=r*np.cos(phi1)\n",
        "y1=r*np.sin(phi1)\n",
        "z1=x*0\n",
        "z2=r*np.cos(theta)+x*0\n",
        "arc1=[d32([x[k],y[k],0]) for k in range(len(phi))] #points\n",
        "arc1x=[d32([x[k],0,0]) for k in range(len(phi))] #points\n",
        "arc1y=[d32([0,y[k],0]) for k in range(len(phi))] #points\n",
        "arc1phi=[d32([x1[k],y1[k],0]) for k in range(len(phi))] #points\n",
        "arc1line=d32([x,y,z1]) #line\n",
        "arc2line=d32([x,y,z2]) #line\n",
        "arc2=[d32([x[k],y[k],z2[k]]) for k in range(len(phi))] #points\n",
        "\n",
        "circle_yz = d32([0*phi,r*np.cos(phi),r*np.sin(phi)])\n",
        "circle_xy = d32([r*np.cos(phi-np.pi/2),r*np.sin(phi-np.pi/2),0*phi])\n",
        "cl = list(cm.tab10.colors) #colors of lines\n",
        "fig = pyplot.figure(figsize=([9,9]))\n",
        "xlim=[-.7,.7];ylim=[-.7,.7]\n",
        "ax = fig.add_axes([0,0,1,1],xlim=xlim,ylim=ylim);ax.axis('off')\n",
        "\n",
        "xyzmax=.65\n",
        "pmax=[d32((xyzmax,0,0)),d32((0,xyzmax,0)),d32((0,0,xyzmax))]\n",
        "pmin=[d32((-xyzmax,0,0)),d32((0,-xyzmax,0)),d32((0,0,-xyzmax))]\n",
        "[ax.annotate('',pmax[k],pmin[k],arrowprops=dict(arrowstyle='->',lw=1.5,color='k')) for k in range(3)] #x,y,z-axis\n",
        "ax.plot(circle_yz[0],circle_yz[1],c='k',lw=3,alpha=.7)\n",
        "ax.plot(circle_xy[0][:Nf//2],circle_xy[1][:Nf//2],c='k',lw=3,alpha=.7)\n",
        "ax.plot(circle_xy[0][Nf//2:],circle_xy[1][Nf//2:],c='k',lw=3,alpha=.2)\n",
        "ax.text(0,z2[0],r'$z=r\\cos\\theta$',size=25,va='center')\n",
        "lines = [ax.plot([],[],c=cl[k],lw=[3,3,2][k])[0] for k in range(3)]\n",
        "lines += [ax.plot([],[],c=cl[1],lw=2)[0]]\n",
        "lines += [ax.plot([],[],'--',c=cl[0],lw=1.5)[0] for k in range(3)]\n",
        "lines += [ax.plot([],[],'-',c=cl[0],lw=1.5,alpha=.7)[0] for k in range(2)]\n",
        "lines += [ax.plot([],[],'-',c='k',lw=2,alpha=[.2,.6][k])[0] for k in range(2)]\n",
        "txts=[ax.text(0,0,[r'$r$',r'$\\varphi$',r'$\\theta$'][k],c=cl[k],size=25,va='center',ha=['left','left','right'][k]) for k in range(3)]\n",
        "txts+=[ax.text(0,0,r'$P\\ (r,\\theta,\\varphi)$',size=35,va='center')]\n",
        "txts+=[ax.text(0,0,[r'$x=r\\sin\\theta\\cos\\varphi$',r'$y=r\\sin\\theta\\sin\\varphi$'][k],size=25,ha=['left','center'][k],va=['center','top'][k]) for k in range(2)]\n",
        "pointP=ax.scatter(0,0,s=120,marker='o',c='k',zorder=4)\n",
        "def animate(i):\n",
        "  if i%50==0: print(i)\n",
        "  arctheta=d32([r*np.cos(phi[i])*np.sin(theta_lst),r*np.sin(phi[i])*np.sin(theta_lst),r*np.cos(theta_lst)])\n",
        "  arclongtitude=d32([r*np.cos(phi[i])*np.sin(phi),r*np.sin(phi[i])*np.sin(phi),r*np.cos(phi)])\n",
        "  pointP.set_offsets(arc2[i])\n",
        "  lines[0].set_data([arc2[i][0],0],[arc2[i][1],0]) #r\n",
        "  lines[1].set_data(arc2line[0][:i+1],arc2line[1][:i+1])#arc phi\n",
        "  lines[2].set_data(arctheta[0]*.4,arctheta[1]*.4) #arc theta\n",
        "  lines[3].set_data(.2*arc1line[0][:i+1],.2*arc1line[1][:i+1])\n",
        "  lines[4].set_data([arc2[i][0],0],[arc2[i][1],z2[0]])\n",
        "  lines[5].set_data([arc1x[i][0],arc1[i][0]],[arc1x[i][1],arc1[i][1]])\n",
        "  lines[6].set_data([arc1y[i][0],arc1[i][0]],[arc1y[i][1],arc1[i][1]])\n",
        "  lines[7].set_data([0,arc1[i][0]],[0,arc1[i][1]])\n",
        "  lines[8].set_data([arc1[i][0],arc2[i][0]],[arc1[i][1],arc2[i][1]])\n",
        "  if (phi[i]+np.pi/2)%(np.pi*2)<np.pi:\n",
        "    lines[10].set_data(arclongtitude[0][:Nf//2],arclongtitude[1][:Nf//2])\n",
        "    lines[9].set_data(arclongtitude[0][Nf//2:],arclongtitude[1][Nf//2:])\n",
        "  else:\n",
        "    lines[9].set_data(arclongtitude[0][:Nf//2],arclongtitude[1][:Nf//2])\n",
        "    lines[10].set_data(arclongtitude[0][Nf//2:],arclongtitude[1][Nf//2:])\n",
        "  txts[0].set_position((arc2[i][0]/2,arc2[i][1]/2))\n",
        "  txts[1].set_position((arc1phi[i][0]*.3,arc1phi[i][1]*.3))\n",
        "  txts[3].set_position((arc2[i][0],arc2[i][1]))\n",
        "  txts[4].set_position((arc1x[i][0],arc1x[i][1]))\n",
        "  txts[5].set_position((arc1y[i][0],arc1y[i][1]))\n",
        "  txts[2].set_position((d32([.45*r*np.sin(theta/2)*np.cos(phi[i]),.45*r*np.sin(theta/2)*np.sin(phi[i]),.45*r*np.cos(theta/2)])[0],\n",
        "                        d32([.45*r*np.sin(theta/2)*np.cos(phi[i]),.45*r*np.sin(theta/2)*np.sin(phi[i]),.45*r*np.cos(theta/2)])[1])) #theta\n",
        "  return\n",
        "ax.text(np.average(ax.get_xlim()),ax.get_ylim()[0]*.99+ax.get_ylim()[1]*.01,r'@eeanimation',size=12,c='.2',alpha=.3,ha='center',va='bottom')\n",
        "anim = animation.FuncAnimation(fig, animate, frames=len(phi), interval=20)\n",
        "anim.save(\"sph2cart.mp4\",writer=animation.FFMpegWriter(fps=50),dpi=200)"
      ]
    },
    {
      "cell_type": "code",
      "source": [],
      "metadata": {
        "id": "g-lRWq8pQZ5x"
      },
      "execution_count": 1,
      "outputs": []
    }
  ]
}